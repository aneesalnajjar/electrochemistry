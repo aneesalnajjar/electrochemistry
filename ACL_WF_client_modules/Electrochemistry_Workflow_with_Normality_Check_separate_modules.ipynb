{
 "cells": [
  {
   "cell_type": "markdown",
   "id": "7d113635",
   "metadata": {},
   "source": [
    "# Normailty Check of Electrochemical Cell Connectivity:"
   ]
  },
  {
   "cell_type": "markdown",
   "id": "a69b1aea",
   "metadata": {},
   "source": [
    "## Intitialization"
   ]
  },
  {
   "cell_type": "code",
   "execution_count": null,
   "id": "6aecae15",
   "metadata": {},
   "outputs": [],
   "source": [
    "import os\n",
    "import time\n",
    "\n",
    "from workflow_config import *\n",
    "from acl_pyro_objects import ACL_Pyro_Client\n",
    "from biologic_sp200_config import SP200_config_params, SP200_Technique_params\n",
    "from jkem_setup_config import Serial_Port_MetaData_Dic\n",
    "from ml_models_for_normality_check import *"
   ]
  },
  {
   "cell_type": "markdown",
   "id": "baf8988b",
   "metadata": {},
   "source": [
    "## I-V Profile Normality Check Learning: Feature Design and Extraction"
   ]
  },
  {
   "cell_type": "code",
   "execution_count": null,
   "id": "ea5f1b3c",
   "metadata": {
    "scrolled": true
   },
   "outputs": [],
   "source": [
    "save_file_flag=False\n",
    "show_IV_plot=True\n",
    "# Learn the model and preform feature extraction\n",
    "i_probe_lst=GPR_for_CV_feature_extraction(training_data_path,v_probe,save_file_flag,show_IV_plot) # 1-2\n",
    "# Assign Classes to the training data set\n",
    "i_probe_lst=call_assign_classes(i_probe_lst) # 1-3\n",
    "# Train a classifer with the probing measurement\n",
    "call_Train_n_Serialize_RF_Classifier(i_probe_lst,EoT_Classifier_Path, EoT_Classifier) #1-4"
   ]
  },
  {
   "cell_type": "markdown",
   "id": "2d241db9",
   "metadata": {},
   "source": [
    "## Trigger Electrochemistry Workflow"
   ]
  },
  {
   "cell_type": "code",
   "execution_count": null,
   "id": "a4f2457c",
   "metadata": {},
   "outputs": [],
   "source": [
    "PS200_WF=ACL_Pyro_Client(ipAddressServer,connectionPort)"
   ]
  },
  {
   "cell_type": "markdown",
   "id": "23cae503",
   "metadata": {},
   "source": [
    "## Initialize & Run  J-Kem Electrochemistry Setup"
   ]
  },
  {
   "cell_type": "code",
   "execution_count": null,
   "id": "651dc90b",
   "metadata": {},
   "outputs": [],
   "source": [
    "sleep_time=3\n",
    "s=time.time()\n",
    "PS200_WF.call_Initialize_JKem_API(Serial_Port_MetaData_Dic)\n",
    "time.sleep(sleep_time)\n",
    "PS200_WF.call_Activate_JKem_API()\n",
    "time.sleep(sleep_time)\n",
    "time.sleep(sleep_time)\n",
    "PS200_WF.Set_Rate_SyringePump(1,10.0) # (syringepump id, rate)\n",
    "time.sleep(sleep_time)\n",
    "# port 8 is for Fraction Collector\n",
    "PS200_WF.Set_Port_SyringePump(1,8)  # (syringepump id, syringepump port)\n",
    "time.sleep(sleep_time)\n",
    "PS200_WF.FractionCollector_Rack('20ml')\n",
    "time.sleep(sleep_time)\n",
    "PS200_WF.Set_Vial_FractionCollector(1,'BOTTOM') # (vial id, position)\n",
    "time.sleep(sleep_time)\n",
    "PS200_WF.Withdraw_SyringePump(1,7.0,10.0) # (syringepump id, w_volume, rate)\n",
    "time.sleep(sleep_time)\n",
    "# port 2 is for cell\n",
    "PS200_WF.Set_Port_SyringePump(1,2)  # (syringepump id, syringepump port)\n",
    "time.sleep(sleep_time)\n",
    "\n",
    "PS200_WF.Dispense_SyringePump(1,7.0,10.0) # (syringepump id, d_volume, rate)\n",
    "time.sleep(sleep_time)\n",
    "# iport 3 is for Air\n",
    "PS200_WF.Set_Port_SyringePump(1,3)  # (syringepump id, syringepump port)\n",
    "time.sleep(sleep_time)\n",
    "PS200_WF.Withdraw_SyringePump(1,5.0,10.0) # (syringepump id, w_volume, rate)\n",
    "time.sleep(sleep_time)\n",
    "PS200_WF.Set_Port_SyringePump(1,2)  # (syringepump id, syringepump port)\n",
    "time.sleep(sleep_time)\n",
    "PS200_WF.Dispense_SyringePump(1,5.0,10.0) # (syringepump id, d_volume, rate)\n",
    "time.sleep(sleep_time)\n",
    "PS200_WF.Set_Home_SyringePump(1) # (syringepump id)\n",
    "time.sleep(sleep_time)\n",
    "PS200_WF.Set_Home_FractionCollector()\n",
    "time.sleep(sleep_time)\n",
    "\n",
    "time.sleep(sleep_time)\n",
    "d=time.time()-s\n",
    "#print(d)"
   ]
  },
  {
   "cell_type": "markdown",
   "id": "f3390980",
   "metadata": {},
   "source": [
    "## Initialize & Run Potentiostat"
   ]
  },
  {
   "cell_type": "code",
   "execution_count": null,
   "id": "b6673ceb",
   "metadata": {},
   "outputs": [],
   "source": [
    "sleep_time=1.5\n",
    "PS200_WF.call_Initialize_SP200_API(SP200_config_params)\n",
    "time.sleep(sleep_time)\n",
    "PS200_WF.call_Connect_SP200()\n",
    "time.sleep(sleep_time)\n",
    "PS200_WF.call_Load_Firmware_SP200()\n",
    "time.sleep(sleep_time)\n",
    "PS200_WF.call_Initialize_CV_Tech_SP200(SP200_Technique_params)\n",
    "time.sleep(sleep_time)\n",
    "PS200_WF.call_Load_Technique_SP200()\n",
    "time.sleep(sleep_time)\n",
    "PS200_WF.call_Start_Channel_SP200()\n",
    "time.sleep(sleep_time)\n",
    "\n",
    "\n",
    "# profiles_via_data_channel=True  # Measurements sent via data channel \n",
    "# # CV_data_file=PS200_WF.call_Get_Measurement_SP200(testing_data_path,profiles_via_data_channel) # over one drive\n",
    "#  CV_data_file=PS200_WF.call_Get_Measurement_SP200(testing_data_path_server,profiles_via_data_channel) # over file mount\n",
    "\n",
    "\n",
    "# # profiles_via_data_channel=False # Measurements sent via control channel\n",
    "CV_data_file=PS200_WF.call_Get_Measurement_SP200(testing_data_path,profiles_via_data_channel)\n",
    "\n"
   ]
  },
  {
   "cell_type": "markdown",
   "id": "8ee6e517",
   "metadata": {},
   "source": [
    "## I-V Profile Fitting & Classification"
   ]
  },
  {
   "cell_type": "code",
   "execution_count": null,
   "id": "82452796",
   "metadata": {
    "scrolled": true
   },
   "outputs": [],
   "source": [
    "save_file_flag=True\n",
    "show_IV_plot=True\n",
    "\n",
    "current_measurement_profile,measurement_status=call_analyze_CV_profile(CV_data_file,v_probe,testing_data_path,EoT_Classifier_Path, EoT_Classifier,save_file_flag,show_IV_plot)\n",
    "print(f\" CV Measurements of {os.path.basename(current_measurement_profile)} is \\\n",
    "   {('Normal') if measurement_status else ('Invalid')}\")\n"
   ]
  },
  {
   "cell_type": "markdown",
   "id": "ace75279",
   "metadata": {},
   "source": [
    "## Terminate Electrochemistry Workflow"
   ]
  },
  {
   "cell_type": "code",
   "execution_count": null,
   "id": "6beaf2cb",
   "metadata": {},
   "outputs": [],
   "source": [
    "PS200_WF.call_Stop_Channel_SP200()\n",
    "PS200_WF.call_Disconnect_SP200()\n",
    "#PS200_WF.call_Exit_JKem_API()\n",
    "PS200_WF.call_Shutdown_SP200()"
   ]
  }
 ],
 "metadata": {
  "kernelspec": {
   "display_name": "Python 3 (ipykernel)",
   "language": "python",
   "name": "python3"
  },
  "language_info": {
   "codemirror_mode": {
    "name": "ipython",
    "version": 3
   },
   "file_extension": ".py",
   "mimetype": "text/x-python",
   "name": "python",
   "nbconvert_exporter": "python",
   "pygments_lexer": "ipython3",
   "version": "3.9.12"
  }
 },
 "nbformat": 4,
 "nbformat_minor": 5
}
